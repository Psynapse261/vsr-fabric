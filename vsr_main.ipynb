{
 "cells": [
  {
   "cell_type": "markdown",
   "id": "1558a403-7e82-4d21-9139-f3c08e3a34c6",
   "metadata": {},
   "source": [
    "## Reserve resources on FABRIC\n",
    "\n",
    "In this section, we’ll reserve and configure resources on the FABRIC testbed."
   ]
  },
  {
   "cell_type": "markdown",
   "id": "a95e38bc-4f4e-4651-ba88-026b358c4cd3",
   "metadata": {},
   "source": [
    "### Configure environment"
   ]
  },
  {
   "cell_type": "code",
   "execution_count": 1,
   "id": "b0281ecc-a3e4-467e-8db1-fe974fd975c1",
   "metadata": {},
   "outputs": [
    {
     "data": {
      "text/html": [
       "<style type=\"text/css\">\n",
       "#T_00d06 tr:nth-child(even) {\n",
       "  background: #dbf3ff;\n",
       "  color: #231f20;\n",
       "}\n",
       "#T_00d06 tr:nth-child(odd) {\n",
       "  background: #ffffff;\n",
       "  color: #231f20;\n",
       "}\n",
       "#T_00d06 caption {\n",
       "  text-align: center;\n",
       "  font-size: 150%;\n",
       "}\n",
       "#T_00d06_row0_col0, #T_00d06_row0_col1, #T_00d06_row1_col0, #T_00d06_row1_col1, #T_00d06_row2_col0, #T_00d06_row2_col1, #T_00d06_row3_col0, #T_00d06_row3_col1, #T_00d06_row4_col0, #T_00d06_row4_col1, #T_00d06_row5_col0, #T_00d06_row5_col1, #T_00d06_row6_col0, #T_00d06_row6_col1, #T_00d06_row7_col0, #T_00d06_row7_col1, #T_00d06_row8_col0, #T_00d06_row8_col1, #T_00d06_row9_col0, #T_00d06_row9_col1, #T_00d06_row10_col0, #T_00d06_row10_col1, #T_00d06_row11_col0, #T_00d06_row11_col1, #T_00d06_row12_col0, #T_00d06_row12_col1, #T_00d06_row13_col0, #T_00d06_row13_col1 {\n",
       "  text-align: left;\n",
       "  border: 1px #231f20 solid !important;\n",
       "  overwrite: False;\n",
       "}\n",
       "</style>\n",
       "<table id=\"T_00d06\">\n",
       "  <caption>FABlib Config</caption>\n",
       "  <thead>\n",
       "  </thead>\n",
       "  <tbody>\n",
       "    <tr>\n",
       "      <td id=\"T_00d06_row0_col0\" class=\"data row0 col0\" >Credential Manager</td>\n",
       "      <td id=\"T_00d06_row0_col1\" class=\"data row0 col1\" >cm.fabric-testbed.net</td>\n",
       "    </tr>\n",
       "    <tr>\n",
       "      <td id=\"T_00d06_row1_col0\" class=\"data row1 col0\" >Orchestrator</td>\n",
       "      <td id=\"T_00d06_row1_col1\" class=\"data row1 col1\" >orchestrator.fabric-testbed.net</td>\n",
       "    </tr>\n",
       "    <tr>\n",
       "      <td id=\"T_00d06_row2_col0\" class=\"data row2 col0\" >Token File</td>\n",
       "      <td id=\"T_00d06_row2_col1\" class=\"data row2 col1\" >/home/fabric/.tokens.json</td>\n",
       "    </tr>\n",
       "    <tr>\n",
       "      <td id=\"T_00d06_row3_col0\" class=\"data row3 col0\" >Project ID</td>\n",
       "      <td id=\"T_00d06_row3_col1\" class=\"data row3 col1\" >6ce270de-788d-4e07-8bae-3206860a6387</td>\n",
       "    </tr>\n",
       "    <tr>\n",
       "      <td id=\"T_00d06_row4_col0\" class=\"data row4 col0\" >Bastion Username</td>\n",
       "      <td id=\"T_00d06_row4_col1\" class=\"data row4 col1\" >smbalte_0000108220</td>\n",
       "    </tr>\n",
       "    <tr>\n",
       "      <td id=\"T_00d06_row5_col0\" class=\"data row5 col0\" >Bastion Private Key File</td>\n",
       "      <td id=\"T_00d06_row5_col1\" class=\"data row5 col1\" >/home/fabric/work/fabric_config/fabric_bastion_key</td>\n",
       "    </tr>\n",
       "    <tr>\n",
       "      <td id=\"T_00d06_row6_col0\" class=\"data row6 col0\" >Bastion Host</td>\n",
       "      <td id=\"T_00d06_row6_col1\" class=\"data row6 col1\" >bastion.fabric-testbed.net</td>\n",
       "    </tr>\n",
       "    <tr>\n",
       "      <td id=\"T_00d06_row7_col0\" class=\"data row7 col0\" >Bastion Private Key Passphrase</td>\n",
       "      <td id=\"T_00d06_row7_col1\" class=\"data row7 col1\" >None</td>\n",
       "    </tr>\n",
       "    <tr>\n",
       "      <td id=\"T_00d06_row8_col0\" class=\"data row8 col0\" >Slice Public Key File</td>\n",
       "      <td id=\"T_00d06_row8_col1\" class=\"data row8 col1\" >/home/fabric/work/fabric_config/slice_key.pub</td>\n",
       "    </tr>\n",
       "    <tr>\n",
       "      <td id=\"T_00d06_row9_col0\" class=\"data row9 col0\" >Slice Private Key File</td>\n",
       "      <td id=\"T_00d06_row9_col1\" class=\"data row9 col1\" >/home/fabric/work/fabric_config/slice_key</td>\n",
       "    </tr>\n",
       "    <tr>\n",
       "      <td id=\"T_00d06_row10_col0\" class=\"data row10 col0\" >Slice Private Key Passphrase</td>\n",
       "      <td id=\"T_00d06_row10_col1\" class=\"data row10 col1\" >None</td>\n",
       "    </tr>\n",
       "    <tr>\n",
       "      <td id=\"T_00d06_row11_col0\" class=\"data row11 col0\" >Log File</td>\n",
       "      <td id=\"T_00d06_row11_col1\" class=\"data row11 col1\" >/home/fabric/fablib.log</td>\n",
       "    </tr>\n",
       "    <tr>\n",
       "      <td id=\"T_00d06_row12_col0\" class=\"data row12 col0\" >Log Level</td>\n",
       "      <td id=\"T_00d06_row12_col1\" class=\"data row12 col1\" >INFO</td>\n",
       "    </tr>\n",
       "    <tr>\n",
       "      <td id=\"T_00d06_row13_col0\" class=\"data row13 col0\" >Version</td>\n",
       "      <td id=\"T_00d06_row13_col1\" class=\"data row13 col1\" >1.5.4</td>\n",
       "    </tr>\n",
       "  </tbody>\n",
       "</table>\n"
      ],
      "text/plain": [
       "<pandas.io.formats.style.Styler at 0x7f0a1fa4e560>"
      ]
     },
     "metadata": {},
     "output_type": "display_data"
    }
   ],
   "source": [
    "from fabrictestbed_extensions.fablib.fablib import FablibManager as fablib_manager\n",
    "fablib = fablib_manager() \n",
    "conf = fablib.show_config()"
   ]
  },
  {
   "cell_type": "markdown",
   "id": "b01b9d79-e003-49f6-9c6e-a728c53b99d5",
   "metadata": {},
   "source": [
    "### Define FABRIC configuration for adaptive video experiment"
   ]
  },
  {
   "cell_type": "code",
   "execution_count": 2,
   "id": "f38e5171-e8ff-44fd-a775-2faf279cd454",
   "metadata": {},
   "outputs": [],
   "source": [
    "slice_name=\"vsr-part1-\" + fablib.get_bastion_username()\n",
    "\n",
    "node_conf = [\n",
    " {'name': \"server\",   'cores': 2, 'ram': 4, 'disk': 20, 'image': 'default_ubuntu_20', 'packages': ['net-tools']}, \n",
    " {'name': \"client\",  'cores': 2, 'ram': 4, 'disk': 20, 'image': 'default_ubuntu_20', 'packages': ['net-tools']}, \n",
    " {'name': \"p4_switch\",  'cores': 32, 'ram': 16, 'disk': 40, 'image': 'default_ubuntu_20', 'packages': ['net-tools']}\n",
    "]\n",
    "net_conf = [\n",
    " {\"name\": \"net_r\", \"subnet\": \"10.10.1.0/24\", \"nodes\": [{\"name\": \"server1\",  \"addr\": \"10.10.1.100\"}, {\"name\": \"p4_switch\", \"addr\": \"10.10.1.10\"}]},\n",
    " {\"name\": \"net_j\", \"subnet\": \"10.10.2.0/24\", \"nodes\": [{\"name\": \"server2\", \"addr\": \"10.10.2.100\"}, {\"name\": \"p4_switch\", \"addr\": \"10.10.2.10\"}]},\n",
    "]\n",
    "route_conf = [\n",
    " {\"addr\": \"10.10.1.0/24\", \"gw\": \"10.10.2.10\", \"nodes\": [\"server1\"]}, \n",
    " {\"addr\": \"10.10.2.0/24\", \"gw\": \"10.10.1.10\", \"nodes\": [\"server2\"]}\n",
    "]\n",
    "exp_conf = {'cores': sum([ n['cores'] for n in node_conf]), 'nic': sum([len(n['nodes']) for n in net_conf]) }"
   ]
  },
  {
   "cell_type": "markdown",
   "id": "b55112cc-7aad-49bc-823e-d536fc8e4331",
   "metadata": {},
   "source": [
    "### Reserve resources\n",
    "\n",
    "Now, we are ready to reserve resources!"
   ]
  },
  {
   "cell_type": "markdown",
   "id": "759e6287-ef43-448c-a063-53ea7b4e948a",
   "metadata": {},
   "source": [
    "First, make sure you don’t already have a slice with this name:"
   ]
  },
  {
   "cell_type": "code",
   "execution_count": 4,
   "id": "55ab8ee4-d4ab-44c2-b5a4-6bf3cf58b9b1",
   "metadata": {},
   "outputs": [
    {
     "name": "stdout",
     "output_type": "stream",
     "text": [
      "You don't have a slice named vsr-part1-smbalte_0000108220 yet.\n",
      "Continue to the next step to make one.\n"
     ]
    }
   ],
   "source": [
    "try:\n",
    "    slice = fablib.get_slice(slice_name)\n",
    "    print(\"You already have a slice by this name!\")\n",
    "    print(\"If you previously reserved resources, skip to the 'log in to resources' section.\")\n",
    "except:\n",
    "    print(\"You don't have a slice named %s yet.\" % slice_name)\n",
    "    print(\"Continue to the next step to make one.\")\n",
    "    slice = fablib.new_slice(name=slice_name)"
   ]
  },
  {
   "cell_type": "code",
   "execution_count": 10,
   "id": "448f46eb-95ed-47d6-983d-14c59b210498",
   "metadata": {},
   "outputs": [],
   "source": [
    "#This is only to restart the slice creation process\n",
    "slice.delete()"
   ]
  },
  {
   "cell_type": "code",
   "execution_count": 13,
   "id": "2ec7f91b-1e9f-4a17-bc41-9a3f38b44472",
   "metadata": {},
   "outputs": [
    {
     "data": {
      "text/html": [
       "<style type=\"text/css\">\n",
       "#T_648b8 tr:nth-child(even) {\n",
       "  background: #dbf3ff;\n",
       "  color: #231f20;\n",
       "}\n",
       "#T_648b8 tr:nth-child(odd) {\n",
       "  background: #ffffff;\n",
       "  color: #231f20;\n",
       "}\n",
       "#T_648b8 caption {\n",
       "  text-align: center;\n",
       "  font-size: 150%;\n",
       "}\n",
       "#T_648b8_row0_col0, #T_648b8_row0_col1, #T_648b8_row1_col0, #T_648b8_row1_col1, #T_648b8_row2_col0, #T_648b8_row2_col1, #T_648b8_row3_col0, #T_648b8_row3_col1, #T_648b8_row4_col0, #T_648b8_row4_col1, #T_648b8_row5_col0, #T_648b8_row5_col1 {\n",
       "  text-align: left;\n",
       "  border: 1px #231f20 solid !important;\n",
       "  overwrite: False;\n",
       "}\n",
       "</style>\n",
       "<table id=\"T_648b8\">\n",
       "  <caption>Slice</caption>\n",
       "  <thead>\n",
       "  </thead>\n",
       "  <tbody>\n",
       "    <tr>\n",
       "      <td id=\"T_648b8_row0_col0\" class=\"data row0 col0\" >ID</td>\n",
       "      <td id=\"T_648b8_row0_col1\" class=\"data row0 col1\" >5a8943f1-91bf-4370-93fd-264347a50a45</td>\n",
       "    </tr>\n",
       "    <tr>\n",
       "      <td id=\"T_648b8_row1_col0\" class=\"data row1 col0\" >Name</td>\n",
       "      <td id=\"T_648b8_row1_col1\" class=\"data row1 col1\" >vsr-part1-smbalte_0000108220</td>\n",
       "    </tr>\n",
       "    <tr>\n",
       "      <td id=\"T_648b8_row2_col0\" class=\"data row2 col0\" >Lease Expiration (UTC)</td>\n",
       "      <td id=\"T_648b8_row2_col1\" class=\"data row2 col1\" >2023-12-07 23:30:54 +0000</td>\n",
       "    </tr>\n",
       "    <tr>\n",
       "      <td id=\"T_648b8_row3_col0\" class=\"data row3 col0\" >Lease Start (UTC)</td>\n",
       "      <td id=\"T_648b8_row3_col1\" class=\"data row3 col1\" >2023-12-06 23:30:54 +0000</td>\n",
       "    </tr>\n",
       "    <tr>\n",
       "      <td id=\"T_648b8_row4_col0\" class=\"data row4 col0\" >Project ID</td>\n",
       "      <td id=\"T_648b8_row4_col1\" class=\"data row4 col1\" >6ce270de-788d-4e07-8bae-3206860a6387</td>\n",
       "    </tr>\n",
       "    <tr>\n",
       "      <td id=\"T_648b8_row5_col0\" class=\"data row5 col0\" >State</td>\n",
       "      <td id=\"T_648b8_row5_col1\" class=\"data row5 col1\" >Dead</td>\n",
       "    </tr>\n",
       "  </tbody>\n",
       "</table>\n"
      ],
      "text/plain": [
       "<pandas.io.formats.style.Styler at 0x7f270bf88790>"
      ]
     },
     "metadata": {},
     "output_type": "display_data"
    }
   ],
   "source": [
    "#This is only to check the status of a pre-existing slice\n",
    "slice.update()\n",
    "_ = slice.show()"
   ]
  },
  {
   "cell_type": "markdown",
   "id": "260afb5f-79c5-47e1-89ef-6220a990b1a7",
   "metadata": {},
   "source": [
    "We will select a random site that has sufficient resources for our experiment:"
   ]
  },
  {
   "cell_type": "code",
   "execution_count": 6,
   "id": "55e1b2d1-3f8d-4c36-b0af-e4a485351c8c",
   "metadata": {},
   "outputs": [
    {
     "data": {
      "text/html": [
       "<style type=\"text/css\">\n",
       "#T_b1ffe tr:nth-child(even) {\n",
       "  background: #dbf3ff;\n",
       "  color: #231f20;\n",
       "}\n",
       "#T_b1ffe tr:nth-child(odd) {\n",
       "  background: #ffffff;\n",
       "  color: #231f20;\n",
       "}\n",
       "#T_b1ffe caption {\n",
       "  text-align: center;\n",
       "  font-size: 150%;\n",
       "}\n",
       "#T_b1ffe_row0_col0, #T_b1ffe_row0_col1, #T_b1ffe_row1_col0, #T_b1ffe_row1_col1, #T_b1ffe_row2_col0, #T_b1ffe_row2_col1, #T_b1ffe_row3_col0, #T_b1ffe_row3_col1, #T_b1ffe_row4_col0, #T_b1ffe_row4_col1, #T_b1ffe_row5_col0, #T_b1ffe_row5_col1, #T_b1ffe_row6_col0, #T_b1ffe_row6_col1, #T_b1ffe_row7_col0, #T_b1ffe_row7_col1, #T_b1ffe_row8_col0, #T_b1ffe_row8_col1, #T_b1ffe_row9_col0, #T_b1ffe_row9_col1, #T_b1ffe_row10_col0, #T_b1ffe_row10_col1, #T_b1ffe_row11_col0, #T_b1ffe_row11_col1, #T_b1ffe_row12_col0, #T_b1ffe_row12_col1, #T_b1ffe_row13_col0, #T_b1ffe_row13_col1, #T_b1ffe_row14_col0, #T_b1ffe_row14_col1, #T_b1ffe_row15_col0, #T_b1ffe_row15_col1, #T_b1ffe_row16_col0, #T_b1ffe_row16_col1, #T_b1ffe_row17_col0, #T_b1ffe_row17_col1, #T_b1ffe_row18_col0, #T_b1ffe_row18_col1, #T_b1ffe_row19_col0, #T_b1ffe_row19_col1, #T_b1ffe_row20_col0, #T_b1ffe_row20_col1, #T_b1ffe_row21_col0, #T_b1ffe_row21_col1, #T_b1ffe_row22_col0, #T_b1ffe_row22_col1, #T_b1ffe_row23_col0, #T_b1ffe_row23_col1, #T_b1ffe_row24_col0, #T_b1ffe_row24_col1, #T_b1ffe_row25_col0, #T_b1ffe_row25_col1, #T_b1ffe_row26_col0, #T_b1ffe_row26_col1, #T_b1ffe_row27_col0, #T_b1ffe_row27_col1, #T_b1ffe_row28_col0, #T_b1ffe_row28_col1, #T_b1ffe_row29_col0, #T_b1ffe_row29_col1, #T_b1ffe_row30_col0, #T_b1ffe_row30_col1, #T_b1ffe_row31_col0, #T_b1ffe_row31_col1, #T_b1ffe_row32_col0, #T_b1ffe_row32_col1, #T_b1ffe_row33_col0, #T_b1ffe_row33_col1, #T_b1ffe_row34_col0, #T_b1ffe_row34_col1, #T_b1ffe_row35_col0, #T_b1ffe_row35_col1, #T_b1ffe_row36_col0, #T_b1ffe_row36_col1, #T_b1ffe_row37_col0, #T_b1ffe_row37_col1, #T_b1ffe_row38_col0, #T_b1ffe_row38_col1, #T_b1ffe_row39_col0, #T_b1ffe_row39_col1, #T_b1ffe_row40_col0, #T_b1ffe_row40_col1, #T_b1ffe_row41_col0, #T_b1ffe_row41_col1 {\n",
       "  text-align: left;\n",
       "  border: 1px #231f20 solid !important;\n",
       "  overwrite: False;\n",
       "}\n",
       "</style>\n",
       "<table id=\"T_b1ffe\">\n",
       "  <caption>Site</caption>\n",
       "  <thead>\n",
       "  </thead>\n",
       "  <tbody>\n",
       "    <tr>\n",
       "      <td id=\"T_b1ffe_row0_col0\" class=\"data row0 col0\" >Name</td>\n",
       "      <td id=\"T_b1ffe_row0_col1\" class=\"data row0 col1\" >DALL</td>\n",
       "    </tr>\n",
       "    <tr>\n",
       "      <td id=\"T_b1ffe_row1_col0\" class=\"data row1 col0\" >State</td>\n",
       "      <td id=\"T_b1ffe_row1_col1\" class=\"data row1 col1\" >Active</td>\n",
       "    </tr>\n",
       "    <tr>\n",
       "      <td id=\"T_b1ffe_row2_col0\" class=\"data row2 col0\" >Address</td>\n",
       "      <td id=\"T_b1ffe_row2_col1\" class=\"data row2 col1\" >1950 N Stemmons Fwy,Dallas TX 75207</td>\n",
       "    </tr>\n",
       "    <tr>\n",
       "      <td id=\"T_b1ffe_row3_col0\" class=\"data row3 col0\" >Location</td>\n",
       "      <td id=\"T_b1ffe_row3_col1\" class=\"data row3 col1\" >(32.79908160563668, -96.82069027727609)</td>\n",
       "    </tr>\n",
       "    <tr>\n",
       "      <td id=\"T_b1ffe_row4_col0\" class=\"data row4 col0\" >Hosts</td>\n",
       "      <td id=\"T_b1ffe_row4_col1\" class=\"data row4 col1\" >3</td>\n",
       "    </tr>\n",
       "    <tr>\n",
       "      <td id=\"T_b1ffe_row5_col0\" class=\"data row5 col0\" >CPUs</td>\n",
       "      <td id=\"T_b1ffe_row5_col1\" class=\"data row5 col1\" >6</td>\n",
       "    </tr>\n",
       "    <tr>\n",
       "      <td id=\"T_b1ffe_row6_col0\" class=\"data row6 col0\" >Cores Available</td>\n",
       "      <td id=\"T_b1ffe_row6_col1\" class=\"data row6 col1\" >202</td>\n",
       "    </tr>\n",
       "    <tr>\n",
       "      <td id=\"T_b1ffe_row7_col0\" class=\"data row7 col0\" >Cores Capacity</td>\n",
       "      <td id=\"T_b1ffe_row7_col1\" class=\"data row7 col1\" >384</td>\n",
       "    </tr>\n",
       "    <tr>\n",
       "      <td id=\"T_b1ffe_row8_col0\" class=\"data row8 col0\" >Cores Allocated</td>\n",
       "      <td id=\"T_b1ffe_row8_col1\" class=\"data row8 col1\" >182</td>\n",
       "    </tr>\n",
       "    <tr>\n",
       "      <td id=\"T_b1ffe_row9_col0\" class=\"data row9 col0\" >RAM Available</td>\n",
       "      <td id=\"T_b1ffe_row9_col1\" class=\"data row9 col1\" >1202</td>\n",
       "    </tr>\n",
       "    <tr>\n",
       "      <td id=\"T_b1ffe_row10_col0\" class=\"data row10 col0\" >RAM Capacity</td>\n",
       "      <td id=\"T_b1ffe_row10_col1\" class=\"data row10 col1\" >1506</td>\n",
       "    </tr>\n",
       "    <tr>\n",
       "      <td id=\"T_b1ffe_row11_col0\" class=\"data row11 col0\" >RAM Allocated</td>\n",
       "      <td id=\"T_b1ffe_row11_col1\" class=\"data row11 col1\" >304</td>\n",
       "    </tr>\n",
       "    <tr>\n",
       "      <td id=\"T_b1ffe_row12_col0\" class=\"data row12 col0\" >Disk Available</td>\n",
       "      <td id=\"T_b1ffe_row12_col1\" class=\"data row12 col1\" >63306</td>\n",
       "    </tr>\n",
       "    <tr>\n",
       "      <td id=\"T_b1ffe_row13_col0\" class=\"data row13 col0\" >Disk Capacity</td>\n",
       "      <td id=\"T_b1ffe_row13_col1\" class=\"data row13 col1\" >64161</td>\n",
       "    </tr>\n",
       "    <tr>\n",
       "      <td id=\"T_b1ffe_row14_col0\" class=\"data row14 col0\" >Disk Allocated</td>\n",
       "      <td id=\"T_b1ffe_row14_col1\" class=\"data row14 col1\" >855</td>\n",
       "    </tr>\n",
       "    <tr>\n",
       "      <td id=\"T_b1ffe_row15_col0\" class=\"data row15 col0\" >Basic NIC Available</td>\n",
       "      <td id=\"T_b1ffe_row15_col1\" class=\"data row15 col1\" >332</td>\n",
       "    </tr>\n",
       "    <tr>\n",
       "      <td id=\"T_b1ffe_row16_col0\" class=\"data row16 col0\" >Basic NIC Capacity</td>\n",
       "      <td id=\"T_b1ffe_row16_col1\" class=\"data row16 col1\" >381</td>\n",
       "    </tr>\n",
       "    <tr>\n",
       "      <td id=\"T_b1ffe_row17_col0\" class=\"data row17 col0\" >Basic NIC Allocated</td>\n",
       "      <td id=\"T_b1ffe_row17_col1\" class=\"data row17 col1\" >49</td>\n",
       "    </tr>\n",
       "    <tr>\n",
       "      <td id=\"T_b1ffe_row18_col0\" class=\"data row18 col0\" >ConnectX-6 Available</td>\n",
       "      <td id=\"T_b1ffe_row18_col1\" class=\"data row18 col1\" >2</td>\n",
       "    </tr>\n",
       "    <tr>\n",
       "      <td id=\"T_b1ffe_row19_col0\" class=\"data row19 col0\" >ConnectX-6 Capacity</td>\n",
       "      <td id=\"T_b1ffe_row19_col1\" class=\"data row19 col1\" >2</td>\n",
       "    </tr>\n",
       "    <tr>\n",
       "      <td id=\"T_b1ffe_row20_col0\" class=\"data row20 col0\" >ConnectX-6 Allocated</td>\n",
       "      <td id=\"T_b1ffe_row20_col1\" class=\"data row20 col1\" >0</td>\n",
       "    </tr>\n",
       "    <tr>\n",
       "      <td id=\"T_b1ffe_row21_col0\" class=\"data row21 col0\" >ConnectX-5 Available</td>\n",
       "      <td id=\"T_b1ffe_row21_col1\" class=\"data row21 col1\" >1</td>\n",
       "    </tr>\n",
       "    <tr>\n",
       "      <td id=\"T_b1ffe_row22_col0\" class=\"data row22 col0\" >ConnectX-5 Capacity</td>\n",
       "      <td id=\"T_b1ffe_row22_col1\" class=\"data row22 col1\" >2</td>\n",
       "    </tr>\n",
       "    <tr>\n",
       "      <td id=\"T_b1ffe_row23_col0\" class=\"data row23 col0\" >ConnectX-5 Allocated</td>\n",
       "      <td id=\"T_b1ffe_row23_col1\" class=\"data row23 col1\" >1</td>\n",
       "    </tr>\n",
       "    <tr>\n",
       "      <td id=\"T_b1ffe_row24_col0\" class=\"data row24 col0\" >NVMe Available</td>\n",
       "      <td id=\"T_b1ffe_row24_col1\" class=\"data row24 col1\" >10</td>\n",
       "    </tr>\n",
       "    <tr>\n",
       "      <td id=\"T_b1ffe_row25_col0\" class=\"data row25 col0\" >NVMe Capacity</td>\n",
       "      <td id=\"T_b1ffe_row25_col1\" class=\"data row25 col1\" >10</td>\n",
       "    </tr>\n",
       "    <tr>\n",
       "      <td id=\"T_b1ffe_row26_col0\" class=\"data row26 col0\" >NVMe Allocated</td>\n",
       "      <td id=\"T_b1ffe_row26_col1\" class=\"data row26 col1\" >0</td>\n",
       "    </tr>\n",
       "    <tr>\n",
       "      <td id=\"T_b1ffe_row27_col0\" class=\"data row27 col0\" >Tesla T4 Available</td>\n",
       "      <td id=\"T_b1ffe_row27_col1\" class=\"data row27 col1\" >2</td>\n",
       "    </tr>\n",
       "    <tr>\n",
       "      <td id=\"T_b1ffe_row28_col0\" class=\"data row28 col0\" >Tesla T4 Capacity</td>\n",
       "      <td id=\"T_b1ffe_row28_col1\" class=\"data row28 col1\" >2</td>\n",
       "    </tr>\n",
       "    <tr>\n",
       "      <td id=\"T_b1ffe_row29_col0\" class=\"data row29 col0\" >Tesla T4 Allocated</td>\n",
       "      <td id=\"T_b1ffe_row29_col1\" class=\"data row29 col1\" >0</td>\n",
       "    </tr>\n",
       "    <tr>\n",
       "      <td id=\"T_b1ffe_row30_col0\" class=\"data row30 col0\" >RTX6000 Available</td>\n",
       "      <td id=\"T_b1ffe_row30_col1\" class=\"data row30 col1\" >3</td>\n",
       "    </tr>\n",
       "    <tr>\n",
       "      <td id=\"T_b1ffe_row31_col0\" class=\"data row31 col0\" >RTX6000 Capacity</td>\n",
       "      <td id=\"T_b1ffe_row31_col1\" class=\"data row31 col1\" >3</td>\n",
       "    </tr>\n",
       "    <tr>\n",
       "      <td id=\"T_b1ffe_row32_col0\" class=\"data row32 col0\" >RTX6000 Allocated</td>\n",
       "      <td id=\"T_b1ffe_row32_col1\" class=\"data row32 col1\" >0</td>\n",
       "    </tr>\n",
       "    <tr>\n",
       "      <td id=\"T_b1ffe_row33_col0\" class=\"data row33 col0\" >A30 Available</td>\n",
       "      <td id=\"T_b1ffe_row33_col1\" class=\"data row33 col1\" >0</td>\n",
       "    </tr>\n",
       "    <tr>\n",
       "      <td id=\"T_b1ffe_row34_col0\" class=\"data row34 col0\" >A30 Capacity</td>\n",
       "      <td id=\"T_b1ffe_row34_col1\" class=\"data row34 col1\" >0</td>\n",
       "    </tr>\n",
       "    <tr>\n",
       "      <td id=\"T_b1ffe_row35_col0\" class=\"data row35 col0\" >A30 Allocated</td>\n",
       "      <td id=\"T_b1ffe_row35_col1\" class=\"data row35 col1\" >0</td>\n",
       "    </tr>\n",
       "    <tr>\n",
       "      <td id=\"T_b1ffe_row36_col0\" class=\"data row36 col0\" >A40 Available</td>\n",
       "      <td id=\"T_b1ffe_row36_col1\" class=\"data row36 col1\" >0</td>\n",
       "    </tr>\n",
       "    <tr>\n",
       "      <td id=\"T_b1ffe_row37_col0\" class=\"data row37 col0\" >A40 Capacity</td>\n",
       "      <td id=\"T_b1ffe_row37_col1\" class=\"data row37 col1\" >0</td>\n",
       "    </tr>\n",
       "    <tr>\n",
       "      <td id=\"T_b1ffe_row38_col0\" class=\"data row38 col0\" >A40 Allocated</td>\n",
       "      <td id=\"T_b1ffe_row38_col1\" class=\"data row38 col1\" >0</td>\n",
       "    </tr>\n",
       "    <tr>\n",
       "      <td id=\"T_b1ffe_row39_col0\" class=\"data row39 col0\" >U280 Available</td>\n",
       "      <td id=\"T_b1ffe_row39_col1\" class=\"data row39 col1\" >1</td>\n",
       "    </tr>\n",
       "    <tr>\n",
       "      <td id=\"T_b1ffe_row40_col0\" class=\"data row40 col0\" >U280 Capacity</td>\n",
       "      <td id=\"T_b1ffe_row40_col1\" class=\"data row40 col1\" >1</td>\n",
       "    </tr>\n",
       "    <tr>\n",
       "      <td id=\"T_b1ffe_row41_col0\" class=\"data row41 col0\" >U280 Allocated</td>\n",
       "      <td id=\"T_b1ffe_row41_col1\" class=\"data row41 col1\" >0</td>\n",
       "    </tr>\n",
       "  </tbody>\n",
       "</table>\n"
      ],
      "text/plain": [
       "<pandas.io.formats.style.Styler at 0x7f0a21813010>"
      ]
     },
     "metadata": {},
     "output_type": "display_data"
    },
    {
     "data": {
      "text/plain": [
       "'<pandas.io.formats.style.Styler object at 0x7f0a21813010>'"
      ]
     },
     "execution_count": 6,
     "metadata": {},
     "output_type": "execute_result"
    }
   ],
   "source": [
    "while True:\n",
    "    site_name = fablib.get_random_site()\n",
    "    if ( (fablib.resources.get_core_available(site_name) > 1.2*exp_conf['cores']) and\n",
    "        (fablib.resources.get_component_available(site_name, 'SharedNIC-ConnectX-6') > 1.2**exp_conf['nic']) ):\n",
    "        break\n",
    "\n",
    "fablib.show_site(site_name)"
   ]
  },
  {
   "cell_type": "markdown",
   "id": "fbaeb970-a575-4d3b-802b-cd5de4728120",
   "metadata": {},
   "source": [
    "Then we will add hosts and network segments:"
   ]
  },
  {
   "cell_type": "code",
   "execution_count": 7,
   "id": "6463bed4-5555-4869-8b19-9bf51f9b73df",
   "metadata": {},
   "outputs": [],
   "source": [
    "# this cell sets up the nodes\n",
    "server = slice.add_node(name=\"server\", \n",
    "                      site=site_name, \n",
    "                      cores=4, \n",
    "                      ram=8, \n",
    "                      disk=20, \n",
    "                      image='default_ubuntu_20')\n",
    "\n",
    "client = slice.add_node(name=\"client\", \n",
    "                      site=site_name, \n",
    "                      cores=4, \n",
    "                      ram=8, \n",
    "                      disk=20, \n",
    "                      image='default_ubuntu_20')\n",
    "\n",
    "switch = slice.add_node(name=\"switch\", \n",
    "                      site=site_name, \n",
    "                      cores=32, \n",
    "                      ram=16, \n",
    "                      disk=40, \n",
    "                      image='default_ubuntu_20')"
   ]
  },
  {
   "cell_type": "code",
   "execution_count": 8,
   "id": "1c99acd7-c471-40b2-b3a6-2861a78c19a1",
   "metadata": {},
   "outputs": [],
   "source": [
    "# this cell sets up the network segments and interfaces\n",
    "server_iface = server.add_component(model='NIC_Basic').get_interfaces()[0]\n",
    "client_iface = client.add_component(model='NIC_Basic').get_interfaces()[0]\n",
    "\n",
    "switch_iface1 = switch.add_component(model='NIC_Basic', name='net1_nic').get_interfaces()[0]\n",
    "switch_iface2 = switch.add_component(model='NIC_Basic', name='net2_nic').get_interfaces()[0]\n",
    "\n",
    "net1 = slice.add_l2network(name='net1', interfaces=[server_iface, switch_iface1])\n",
    "net2 = slice.add_l2network(name='net2', interfaces=[switch_iface2, client_iface])"
   ]
  },
  {
   "cell_type": "code",
   "execution_count": 9,
   "id": "522b58a2-d7f2-48a0-aca7-4cec8177fc6c",
   "metadata": {},
   "outputs": [],
   "source": [
    "# this cell will add a GPU to the 'router' node\n",
    "my_gpu = slice.get_node(name=\"switch\").add_component(model=\"GPU_RTX6000\", name=\"VSR_GPU\")"
   ]
  },
  {
   "cell_type": "markdown",
   "id": "c8673099-a04e-4fef-9847-0454401c5199",
   "metadata": {},
   "source": [
    "The following cell submits our request to the FABRIC site. The output of this cell will update automatically as the status of our request changes.\n",
    "\n",
    "-   While it is being prepared, the “State” of the slice will appear as “Configuring”.\n",
    "-   When it is ready, the “State” of the slice will change to “StableOK”.\n",
    "\n",
    "You may prefer to walk away and come back in a few minutes (for simple slices) or a few tens of minutes (for more complicated slices with many resources)."
   ]
  },
  {
   "cell_type": "code",
   "execution_count": 10,
   "id": "9cb2451e-21d5-4410-ade1-962957266a77",
   "metadata": {},
   "outputs": [
    {
     "name": "stdout",
     "output_type": "stream",
     "text": [
      "\n",
      "Retry: 10, Time: 319 sec\n"
     ]
    },
    {
     "data": {
      "text/html": [
       "<style type=\"text/css\">\n",
       "#T_959c7 tr:nth-child(even) {\n",
       "  background: #dbf3ff;\n",
       "  color: #231f20;\n",
       "}\n",
       "#T_959c7 tr:nth-child(odd) {\n",
       "  background: #ffffff;\n",
       "  color: #231f20;\n",
       "}\n",
       "#T_959c7 caption {\n",
       "  text-align: center;\n",
       "  font-size: 150%;\n",
       "}\n",
       "#T_959c7_row0_col0, #T_959c7_row0_col1, #T_959c7_row1_col0, #T_959c7_row1_col1, #T_959c7_row2_col0, #T_959c7_row2_col1, #T_959c7_row3_col0, #T_959c7_row3_col1, #T_959c7_row4_col0, #T_959c7_row4_col1, #T_959c7_row5_col0 {\n",
       "  text-align: left;\n",
       "  border: 1px #231f20 solid !important;\n",
       "  overwrite: False;\n",
       "  background-color: ;\n",
       "}\n",
       "#T_959c7_row5_col1 {\n",
       "  text-align: left;\n",
       "  border: 1px #231f20 solid !important;\n",
       "  overwrite: False;\n",
       "  background-color: #c3ffc4;\n",
       "}\n",
       "</style>\n",
       "<table id=\"T_959c7\">\n",
       "  <caption>Slice</caption>\n",
       "  <thead>\n",
       "  </thead>\n",
       "  <tbody>\n",
       "    <tr>\n",
       "      <td id=\"T_959c7_row0_col0\" class=\"data row0 col0\" >ID</td>\n",
       "      <td id=\"T_959c7_row0_col1\" class=\"data row0 col1\" >09161bce-82e9-48a5-aa06-c46ceb06a8c1</td>\n",
       "    </tr>\n",
       "    <tr>\n",
       "      <td id=\"T_959c7_row1_col0\" class=\"data row1 col0\" >Name</td>\n",
       "      <td id=\"T_959c7_row1_col1\" class=\"data row1 col1\" >vsr-part1-smbalte_0000108220</td>\n",
       "    </tr>\n",
       "    <tr>\n",
       "      <td id=\"T_959c7_row2_col0\" class=\"data row2 col0\" >Lease Expiration (UTC)</td>\n",
       "      <td id=\"T_959c7_row2_col1\" class=\"data row2 col1\" >2023-12-07 23:42:59 +0000</td>\n",
       "    </tr>\n",
       "    <tr>\n",
       "      <td id=\"T_959c7_row3_col0\" class=\"data row3 col0\" >Lease Start (UTC)</td>\n",
       "      <td id=\"T_959c7_row3_col1\" class=\"data row3 col1\" >2023-12-06 23:43:00 +0000</td>\n",
       "    </tr>\n",
       "    <tr>\n",
       "      <td id=\"T_959c7_row4_col0\" class=\"data row4 col0\" >Project ID</td>\n",
       "      <td id=\"T_959c7_row4_col1\" class=\"data row4 col1\" >6ce270de-788d-4e07-8bae-3206860a6387</td>\n",
       "    </tr>\n",
       "    <tr>\n",
       "      <td id=\"T_959c7_row5_col0\" class=\"data row5 col0\" >State</td>\n",
       "      <td id=\"T_959c7_row5_col1\" class=\"data row5 col1\" >StableOK</td>\n",
       "    </tr>\n",
       "  </tbody>\n",
       "</table>\n"
      ],
      "text/plain": [
       "<pandas.io.formats.style.Styler at 0x7f0a1c114ee0>"
      ]
     },
     "metadata": {},
     "output_type": "display_data"
    },
    {
     "data": {
      "text/html": [
       "<style type=\"text/css\">\n",
       "#T_56b67 caption {\n",
       "  text-align: center;\n",
       "  font-size: 150%;\n",
       "  caption-side: top;\n",
       "}\n",
       "#T_56b67 th {\n",
       "  text-align: left;\n",
       "}\n",
       "#T_56b67 tr:nth-child(even) {\n",
       "  background: #ffffff;\n",
       "  color: #231f20;\n",
       "}\n",
       "#T_56b67 tr:nth-child(odd) {\n",
       "  background: #dbf3ff;\n",
       "  color: #231f20;\n",
       "}\n",
       "#T_56b67 .level0 {\n",
       "  border: 1px black solid !important;\n",
       "  background: #ffffff;\n",
       "  color: #231f20;\n",
       "}\n",
       "#T_56b67_row0_col0, #T_56b67_row0_col1, #T_56b67_row0_col2, #T_56b67_row0_col3, #T_56b67_row0_col4, #T_56b67_row0_col5, #T_56b67_row0_col6, #T_56b67_row0_col7, #T_56b67_row0_col8, #T_56b67_row0_col9, #T_56b67_row0_col10, #T_56b67_row0_col13, #T_56b67_row0_col14, #T_56b67_row0_col15, #T_56b67_row1_col0, #T_56b67_row1_col1, #T_56b67_row1_col2, #T_56b67_row1_col3, #T_56b67_row1_col4, #T_56b67_row1_col5, #T_56b67_row1_col6, #T_56b67_row1_col7, #T_56b67_row1_col8, #T_56b67_row1_col9, #T_56b67_row1_col10, #T_56b67_row1_col13, #T_56b67_row1_col14, #T_56b67_row1_col15, #T_56b67_row2_col0, #T_56b67_row2_col1, #T_56b67_row2_col2, #T_56b67_row2_col3, #T_56b67_row2_col4, #T_56b67_row2_col5, #T_56b67_row2_col6, #T_56b67_row2_col7, #T_56b67_row2_col8, #T_56b67_row2_col9, #T_56b67_row2_col10, #T_56b67_row2_col13, #T_56b67_row2_col14, #T_56b67_row2_col15 {\n",
       "  text-align: left;\n",
       "  border: 1px #231f20 solid !important;\n",
       "  overwrite: False;\n",
       "}\n",
       "#T_56b67_row0_col11, #T_56b67_row1_col11, #T_56b67_row2_col11 {\n",
       "  text-align: left;\n",
       "  border: 1px #231f20 solid !important;\n",
       "  overwrite: False;\n",
       "  background-color: #c3ffc4;\n",
       "}\n",
       "#T_56b67_row0_col12, #T_56b67_row1_col12, #T_56b67_row2_col12 {\n",
       "  text-align: left;\n",
       "  border: 1px #231f20 solid !important;\n",
       "  overwrite: False;\n",
       "  background-color: ;\n",
       "}\n",
       "</style>\n",
       "<table id=\"T_56b67\">\n",
       "  <caption>Nodes</caption>\n",
       "  <thead>\n",
       "    <tr>\n",
       "      <th id=\"T_56b67_level0_col0\" class=\"col_heading level0 col0\" >ID</th>\n",
       "      <th id=\"T_56b67_level0_col1\" class=\"col_heading level0 col1\" >Name</th>\n",
       "      <th id=\"T_56b67_level0_col2\" class=\"col_heading level0 col2\" >Cores</th>\n",
       "      <th id=\"T_56b67_level0_col3\" class=\"col_heading level0 col3\" >RAM</th>\n",
       "      <th id=\"T_56b67_level0_col4\" class=\"col_heading level0 col4\" >Disk</th>\n",
       "      <th id=\"T_56b67_level0_col5\" class=\"col_heading level0 col5\" >Image</th>\n",
       "      <th id=\"T_56b67_level0_col6\" class=\"col_heading level0 col6\" >Image Type</th>\n",
       "      <th id=\"T_56b67_level0_col7\" class=\"col_heading level0 col7\" >Host</th>\n",
       "      <th id=\"T_56b67_level0_col8\" class=\"col_heading level0 col8\" >Site</th>\n",
       "      <th id=\"T_56b67_level0_col9\" class=\"col_heading level0 col9\" >Username</th>\n",
       "      <th id=\"T_56b67_level0_col10\" class=\"col_heading level0 col10\" >Management IP</th>\n",
       "      <th id=\"T_56b67_level0_col11\" class=\"col_heading level0 col11\" >State</th>\n",
       "      <th id=\"T_56b67_level0_col12\" class=\"col_heading level0 col12\" >Error</th>\n",
       "      <th id=\"T_56b67_level0_col13\" class=\"col_heading level0 col13\" >SSH Command</th>\n",
       "      <th id=\"T_56b67_level0_col14\" class=\"col_heading level0 col14\" >Public SSH Key File</th>\n",
       "      <th id=\"T_56b67_level0_col15\" class=\"col_heading level0 col15\" >Private SSH Key File</th>\n",
       "    </tr>\n",
       "  </thead>\n",
       "  <tbody>\n",
       "    <tr>\n",
       "      <td id=\"T_56b67_row0_col0\" class=\"data row0 col0\" >aaca3f44-877a-48d7-85bf-0901269b48ad</td>\n",
       "      <td id=\"T_56b67_row0_col1\" class=\"data row0 col1\" >client</td>\n",
       "      <td id=\"T_56b67_row0_col2\" class=\"data row0 col2\" >4</td>\n",
       "      <td id=\"T_56b67_row0_col3\" class=\"data row0 col3\" >8</td>\n",
       "      <td id=\"T_56b67_row0_col4\" class=\"data row0 col4\" >100</td>\n",
       "      <td id=\"T_56b67_row0_col5\" class=\"data row0 col5\" >default_ubuntu_20</td>\n",
       "      <td id=\"T_56b67_row0_col6\" class=\"data row0 col6\" >qcow2</td>\n",
       "      <td id=\"T_56b67_row0_col7\" class=\"data row0 col7\" >dall-w1.fabric-testbed.net</td>\n",
       "      <td id=\"T_56b67_row0_col8\" class=\"data row0 col8\" >DALL</td>\n",
       "      <td id=\"T_56b67_row0_col9\" class=\"data row0 col9\" >ubuntu</td>\n",
       "      <td id=\"T_56b67_row0_col10\" class=\"data row0 col10\" >2001:400:a100:3000:f816:3eff:fe7b:c2c9</td>\n",
       "      <td id=\"T_56b67_row0_col11\" class=\"data row0 col11\" >Active</td>\n",
       "      <td id=\"T_56b67_row0_col12\" class=\"data row0 col12\" ></td>\n",
       "      <td id=\"T_56b67_row0_col13\" class=\"data row0 col13\" >ssh -i /home/fabric/work/fabric_config/slice_key -F /home/fabric/work/fabric_config/ssh_config ubuntu@2001:400:a100:3000:f816:3eff:fe7b:c2c9</td>\n",
       "      <td id=\"T_56b67_row0_col14\" class=\"data row0 col14\" >/home/fabric/work/fabric_config/slice_key.pub</td>\n",
       "      <td id=\"T_56b67_row0_col15\" class=\"data row0 col15\" >/home/fabric/work/fabric_config/slice_key</td>\n",
       "    </tr>\n",
       "    <tr>\n",
       "      <td id=\"T_56b67_row1_col0\" class=\"data row1 col0\" >369cd5a0-4eb5-4ffc-834f-5c7b726c5ec5</td>\n",
       "      <td id=\"T_56b67_row1_col1\" class=\"data row1 col1\" >server</td>\n",
       "      <td id=\"T_56b67_row1_col2\" class=\"data row1 col2\" >4</td>\n",
       "      <td id=\"T_56b67_row1_col3\" class=\"data row1 col3\" >8</td>\n",
       "      <td id=\"T_56b67_row1_col4\" class=\"data row1 col4\" >100</td>\n",
       "      <td id=\"T_56b67_row1_col5\" class=\"data row1 col5\" >default_ubuntu_20</td>\n",
       "      <td id=\"T_56b67_row1_col6\" class=\"data row1 col6\" >qcow2</td>\n",
       "      <td id=\"T_56b67_row1_col7\" class=\"data row1 col7\" >dall-w1.fabric-testbed.net</td>\n",
       "      <td id=\"T_56b67_row1_col8\" class=\"data row1 col8\" >DALL</td>\n",
       "      <td id=\"T_56b67_row1_col9\" class=\"data row1 col9\" >ubuntu</td>\n",
       "      <td id=\"T_56b67_row1_col10\" class=\"data row1 col10\" >2001:400:a100:3000:f816:3eff:fee6:db8d</td>\n",
       "      <td id=\"T_56b67_row1_col11\" class=\"data row1 col11\" >Active</td>\n",
       "      <td id=\"T_56b67_row1_col12\" class=\"data row1 col12\" ></td>\n",
       "      <td id=\"T_56b67_row1_col13\" class=\"data row1 col13\" >ssh -i /home/fabric/work/fabric_config/slice_key -F /home/fabric/work/fabric_config/ssh_config ubuntu@2001:400:a100:3000:f816:3eff:fee6:db8d</td>\n",
       "      <td id=\"T_56b67_row1_col14\" class=\"data row1 col14\" >/home/fabric/work/fabric_config/slice_key.pub</td>\n",
       "      <td id=\"T_56b67_row1_col15\" class=\"data row1 col15\" >/home/fabric/work/fabric_config/slice_key</td>\n",
       "    </tr>\n",
       "    <tr>\n",
       "      <td id=\"T_56b67_row2_col0\" class=\"data row2 col0\" >543851dc-7ecf-43c4-a669-c58d873e03d8</td>\n",
       "      <td id=\"T_56b67_row2_col1\" class=\"data row2 col1\" >switch</td>\n",
       "      <td id=\"T_56b67_row2_col2\" class=\"data row2 col2\" >32</td>\n",
       "      <td id=\"T_56b67_row2_col3\" class=\"data row2 col3\" >16</td>\n",
       "      <td id=\"T_56b67_row2_col4\" class=\"data row2 col4\" >100</td>\n",
       "      <td id=\"T_56b67_row2_col5\" class=\"data row2 col5\" >default_ubuntu_20</td>\n",
       "      <td id=\"T_56b67_row2_col6\" class=\"data row2 col6\" >qcow2</td>\n",
       "      <td id=\"T_56b67_row2_col7\" class=\"data row2 col7\" >dall-w1.fabric-testbed.net</td>\n",
       "      <td id=\"T_56b67_row2_col8\" class=\"data row2 col8\" >DALL</td>\n",
       "      <td id=\"T_56b67_row2_col9\" class=\"data row2 col9\" >ubuntu</td>\n",
       "      <td id=\"T_56b67_row2_col10\" class=\"data row2 col10\" >2001:400:a100:3000:f816:3eff:fe58:8d36</td>\n",
       "      <td id=\"T_56b67_row2_col11\" class=\"data row2 col11\" >Active</td>\n",
       "      <td id=\"T_56b67_row2_col12\" class=\"data row2 col12\" ></td>\n",
       "      <td id=\"T_56b67_row2_col13\" class=\"data row2 col13\" >ssh -i /home/fabric/work/fabric_config/slice_key -F /home/fabric/work/fabric_config/ssh_config ubuntu@2001:400:a100:3000:f816:3eff:fe58:8d36</td>\n",
       "      <td id=\"T_56b67_row2_col14\" class=\"data row2 col14\" >/home/fabric/work/fabric_config/slice_key.pub</td>\n",
       "      <td id=\"T_56b67_row2_col15\" class=\"data row2 col15\" >/home/fabric/work/fabric_config/slice_key</td>\n",
       "    </tr>\n",
       "  </tbody>\n",
       "</table>\n"
      ],
      "text/plain": [
       "<pandas.io.formats.style.Styler at 0x7f09df8757e0>"
      ]
     },
     "metadata": {},
     "output_type": "display_data"
    },
    {
     "data": {
      "text/html": [
       "<style type=\"text/css\">\n",
       "#T_cabc2 caption {\n",
       "  text-align: center;\n",
       "  font-size: 150%;\n",
       "  caption-side: top;\n",
       "}\n",
       "#T_cabc2 th {\n",
       "  text-align: left;\n",
       "}\n",
       "#T_cabc2 tr:nth-child(even) {\n",
       "  background: #ffffff;\n",
       "  color: #231f20;\n",
       "}\n",
       "#T_cabc2 tr:nth-child(odd) {\n",
       "  background: #dbf3ff;\n",
       "  color: #231f20;\n",
       "}\n",
       "#T_cabc2 .level0 {\n",
       "  border: 1px black solid !important;\n",
       "  background: #ffffff;\n",
       "  color: #231f20;\n",
       "}\n",
       "#T_cabc2_row0_col0, #T_cabc2_row0_col1, #T_cabc2_row0_col2, #T_cabc2_row0_col3, #T_cabc2_row0_col4, #T_cabc2_row0_col5, #T_cabc2_row0_col6, #T_cabc2_row1_col0, #T_cabc2_row1_col1, #T_cabc2_row1_col2, #T_cabc2_row1_col3, #T_cabc2_row1_col4, #T_cabc2_row1_col5, #T_cabc2_row1_col6 {\n",
       "  text-align: left;\n",
       "  border: 1px #231f20 solid !important;\n",
       "  overwrite: False;\n",
       "}\n",
       "#T_cabc2_row0_col7, #T_cabc2_row1_col7 {\n",
       "  text-align: left;\n",
       "  border: 1px #231f20 solid !important;\n",
       "  overwrite: False;\n",
       "  background-color: #c3ffc4;\n",
       "}\n",
       "#T_cabc2_row0_col8, #T_cabc2_row1_col8 {\n",
       "  text-align: left;\n",
       "  border: 1px #231f20 solid !important;\n",
       "  overwrite: False;\n",
       "  background-color: ;\n",
       "}\n",
       "</style>\n",
       "<table id=\"T_cabc2\">\n",
       "  <caption>Networks</caption>\n",
       "  <thead>\n",
       "    <tr>\n",
       "      <th id=\"T_cabc2_level0_col0\" class=\"col_heading level0 col0\" >ID</th>\n",
       "      <th id=\"T_cabc2_level0_col1\" class=\"col_heading level0 col1\" >Name</th>\n",
       "      <th id=\"T_cabc2_level0_col2\" class=\"col_heading level0 col2\" >Layer</th>\n",
       "      <th id=\"T_cabc2_level0_col3\" class=\"col_heading level0 col3\" >Type</th>\n",
       "      <th id=\"T_cabc2_level0_col4\" class=\"col_heading level0 col4\" >Site</th>\n",
       "      <th id=\"T_cabc2_level0_col5\" class=\"col_heading level0 col5\" >Subnet</th>\n",
       "      <th id=\"T_cabc2_level0_col6\" class=\"col_heading level0 col6\" >Gateway</th>\n",
       "      <th id=\"T_cabc2_level0_col7\" class=\"col_heading level0 col7\" >State</th>\n",
       "      <th id=\"T_cabc2_level0_col8\" class=\"col_heading level0 col8\" >Error</th>\n",
       "    </tr>\n",
       "  </thead>\n",
       "  <tbody>\n",
       "    <tr>\n",
       "      <td id=\"T_cabc2_row0_col0\" class=\"data row0 col0\" >41c83342-c9a9-4650-bd2f-58addaf43416</td>\n",
       "      <td id=\"T_cabc2_row0_col1\" class=\"data row0 col1\" >net1</td>\n",
       "      <td id=\"T_cabc2_row0_col2\" class=\"data row0 col2\" >L2</td>\n",
       "      <td id=\"T_cabc2_row0_col3\" class=\"data row0 col3\" >L2Bridge</td>\n",
       "      <td id=\"T_cabc2_row0_col4\" class=\"data row0 col4\" >DALL</td>\n",
       "      <td id=\"T_cabc2_row0_col5\" class=\"data row0 col5\" >None</td>\n",
       "      <td id=\"T_cabc2_row0_col6\" class=\"data row0 col6\" >None</td>\n",
       "      <td id=\"T_cabc2_row0_col7\" class=\"data row0 col7\" >Active</td>\n",
       "      <td id=\"T_cabc2_row0_col8\" class=\"data row0 col8\" ></td>\n",
       "    </tr>\n",
       "    <tr>\n",
       "      <td id=\"T_cabc2_row1_col0\" class=\"data row1 col0\" >edf29a47-451f-4a6b-bbaa-e11603c25ccd</td>\n",
       "      <td id=\"T_cabc2_row1_col1\" class=\"data row1 col1\" >net2</td>\n",
       "      <td id=\"T_cabc2_row1_col2\" class=\"data row1 col2\" >L2</td>\n",
       "      <td id=\"T_cabc2_row1_col3\" class=\"data row1 col3\" >L2Bridge</td>\n",
       "      <td id=\"T_cabc2_row1_col4\" class=\"data row1 col4\" >DALL</td>\n",
       "      <td id=\"T_cabc2_row1_col5\" class=\"data row1 col5\" >None</td>\n",
       "      <td id=\"T_cabc2_row1_col6\" class=\"data row1 col6\" >None</td>\n",
       "      <td id=\"T_cabc2_row1_col7\" class=\"data row1 col7\" >Active</td>\n",
       "      <td id=\"T_cabc2_row1_col8\" class=\"data row1 col8\" ></td>\n",
       "    </tr>\n",
       "  </tbody>\n",
       "</table>\n"
      ],
      "text/plain": [
       "<pandas.io.formats.style.Styler at 0x7f09df8752a0>"
      ]
     },
     "metadata": {},
     "output_type": "display_data"
    },
    {
     "data": {
      "text/html": [
       "<style type=\"text/css\">\n",
       "#T_08b16 caption {\n",
       "  text-align: center;\n",
       "  font-size: 150%;\n",
       "  caption-side: top;\n",
       "}\n",
       "#T_08b16 th {\n",
       "  text-align: left;\n",
       "}\n",
       "#T_08b16 tr:nth-child(even) {\n",
       "  background: #ffffff;\n",
       "  color: #231f20;\n",
       "}\n",
       "#T_08b16 tr:nth-child(odd) {\n",
       "  background: #dbf3ff;\n",
       "  color: #231f20;\n",
       "}\n",
       "#T_08b16 .level0 {\n",
       "  border: 1px black solid !important;\n",
       "  background: #ffffff;\n",
       "  color: #231f20;\n",
       "}\n",
       "#T_08b16_row0_col0, #T_08b16_row0_col1, #T_08b16_row0_col2, #T_08b16_row0_col3, #T_08b16_row0_col4, #T_08b16_row0_col5, #T_08b16_row0_col6, #T_08b16_row0_col7, #T_08b16_row0_col8, #T_08b16_row0_col9, #T_08b16_row0_col10, #T_08b16_row0_col11, #T_08b16_row1_col0, #T_08b16_row1_col1, #T_08b16_row1_col2, #T_08b16_row1_col3, #T_08b16_row1_col4, #T_08b16_row1_col5, #T_08b16_row1_col6, #T_08b16_row1_col7, #T_08b16_row1_col8, #T_08b16_row1_col9, #T_08b16_row1_col10, #T_08b16_row1_col11, #T_08b16_row2_col0, #T_08b16_row2_col1, #T_08b16_row2_col2, #T_08b16_row2_col3, #T_08b16_row2_col4, #T_08b16_row2_col5, #T_08b16_row2_col6, #T_08b16_row2_col7, #T_08b16_row2_col8, #T_08b16_row2_col9, #T_08b16_row2_col10, #T_08b16_row2_col11, #T_08b16_row3_col0, #T_08b16_row3_col1, #T_08b16_row3_col2, #T_08b16_row3_col3, #T_08b16_row3_col4, #T_08b16_row3_col5, #T_08b16_row3_col6, #T_08b16_row3_col7, #T_08b16_row3_col8, #T_08b16_row3_col9, #T_08b16_row3_col10, #T_08b16_row3_col11 {\n",
       "  text-align: left;\n",
       "  border: 1px #231f20 solid !important;\n",
       "  overwrite: False;\n",
       "}\n",
       "</style>\n",
       "<table id=\"T_08b16\">\n",
       "  <caption>Interfaces</caption>\n",
       "  <thead>\n",
       "    <tr>\n",
       "      <th id=\"T_08b16_level0_col0\" class=\"col_heading level0 col0\" >Name</th>\n",
       "      <th id=\"T_08b16_level0_col1\" class=\"col_heading level0 col1\" >Short Name</th>\n",
       "      <th id=\"T_08b16_level0_col2\" class=\"col_heading level0 col2\" >Node</th>\n",
       "      <th id=\"T_08b16_level0_col3\" class=\"col_heading level0 col3\" >Network</th>\n",
       "      <th id=\"T_08b16_level0_col4\" class=\"col_heading level0 col4\" >Bandwidth</th>\n",
       "      <th id=\"T_08b16_level0_col5\" class=\"col_heading level0 col5\" >Mode</th>\n",
       "      <th id=\"T_08b16_level0_col6\" class=\"col_heading level0 col6\" >VLAN</th>\n",
       "      <th id=\"T_08b16_level0_col7\" class=\"col_heading level0 col7\" >MAC</th>\n",
       "      <th id=\"T_08b16_level0_col8\" class=\"col_heading level0 col8\" >Physical Device</th>\n",
       "      <th id=\"T_08b16_level0_col9\" class=\"col_heading level0 col9\" >Device</th>\n",
       "      <th id=\"T_08b16_level0_col10\" class=\"col_heading level0 col10\" >IP Address</th>\n",
       "      <th id=\"T_08b16_level0_col11\" class=\"col_heading level0 col11\" >Numa Node</th>\n",
       "    </tr>\n",
       "  </thead>\n",
       "  <tbody>\n",
       "    <tr>\n",
       "      <td id=\"T_08b16_row0_col0\" class=\"data row0 col0\" >server-None-p1</td>\n",
       "      <td id=\"T_08b16_row0_col1\" class=\"data row0 col1\" >p1</td>\n",
       "      <td id=\"T_08b16_row0_col2\" class=\"data row0 col2\" >server</td>\n",
       "      <td id=\"T_08b16_row0_col3\" class=\"data row0 col3\" >net1</td>\n",
       "      <td id=\"T_08b16_row0_col4\" class=\"data row0 col4\" >100</td>\n",
       "      <td id=\"T_08b16_row0_col5\" class=\"data row0 col5\" >config</td>\n",
       "      <td id=\"T_08b16_row0_col6\" class=\"data row0 col6\" ></td>\n",
       "      <td id=\"T_08b16_row0_col7\" class=\"data row0 col7\" >0E:0A:CD:51:48:0A</td>\n",
       "      <td id=\"T_08b16_row0_col8\" class=\"data row0 col8\" >enp7s0</td>\n",
       "      <td id=\"T_08b16_row0_col9\" class=\"data row0 col9\" >enp7s0</td>\n",
       "      <td id=\"T_08b16_row0_col10\" class=\"data row0 col10\" >None</td>\n",
       "      <td id=\"T_08b16_row0_col11\" class=\"data row0 col11\" >6</td>\n",
       "    </tr>\n",
       "    <tr>\n",
       "      <td id=\"T_08b16_row1_col0\" class=\"data row1 col0\" >client-None-p1</td>\n",
       "      <td id=\"T_08b16_row1_col1\" class=\"data row1 col1\" >p1</td>\n",
       "      <td id=\"T_08b16_row1_col2\" class=\"data row1 col2\" >client</td>\n",
       "      <td id=\"T_08b16_row1_col3\" class=\"data row1 col3\" >net2</td>\n",
       "      <td id=\"T_08b16_row1_col4\" class=\"data row1 col4\" >100</td>\n",
       "      <td id=\"T_08b16_row1_col5\" class=\"data row1 col5\" >config</td>\n",
       "      <td id=\"T_08b16_row1_col6\" class=\"data row1 col6\" ></td>\n",
       "      <td id=\"T_08b16_row1_col7\" class=\"data row1 col7\" >26:7D:17:66:29:7A</td>\n",
       "      <td id=\"T_08b16_row1_col8\" class=\"data row1 col8\" >enp7s0</td>\n",
       "      <td id=\"T_08b16_row1_col9\" class=\"data row1 col9\" >enp7s0</td>\n",
       "      <td id=\"T_08b16_row1_col10\" class=\"data row1 col10\" >None</td>\n",
       "      <td id=\"T_08b16_row1_col11\" class=\"data row1 col11\" >6</td>\n",
       "    </tr>\n",
       "    <tr>\n",
       "      <td id=\"T_08b16_row2_col0\" class=\"data row2 col0\" >switch-net2_nic-p1</td>\n",
       "      <td id=\"T_08b16_row2_col1\" class=\"data row2 col1\" >p1</td>\n",
       "      <td id=\"T_08b16_row2_col2\" class=\"data row2 col2\" >switch</td>\n",
       "      <td id=\"T_08b16_row2_col3\" class=\"data row2 col3\" >net2</td>\n",
       "      <td id=\"T_08b16_row2_col4\" class=\"data row2 col4\" >100</td>\n",
       "      <td id=\"T_08b16_row2_col5\" class=\"data row2 col5\" >config</td>\n",
       "      <td id=\"T_08b16_row2_col6\" class=\"data row2 col6\" ></td>\n",
       "      <td id=\"T_08b16_row2_col7\" class=\"data row2 col7\" >2A:03:B6:5C:CF:62</td>\n",
       "      <td id=\"T_08b16_row2_col8\" class=\"data row2 col8\" >enp7s0</td>\n",
       "      <td id=\"T_08b16_row2_col9\" class=\"data row2 col9\" >enp7s0</td>\n",
       "      <td id=\"T_08b16_row2_col10\" class=\"data row2 col10\" >None</td>\n",
       "      <td id=\"T_08b16_row2_col11\" class=\"data row2 col11\" >6</td>\n",
       "    </tr>\n",
       "    <tr>\n",
       "      <td id=\"T_08b16_row3_col0\" class=\"data row3 col0\" >switch-net1_nic-p1</td>\n",
       "      <td id=\"T_08b16_row3_col1\" class=\"data row3 col1\" >p1</td>\n",
       "      <td id=\"T_08b16_row3_col2\" class=\"data row3 col2\" >switch</td>\n",
       "      <td id=\"T_08b16_row3_col3\" class=\"data row3 col3\" >net1</td>\n",
       "      <td id=\"T_08b16_row3_col4\" class=\"data row3 col4\" >100</td>\n",
       "      <td id=\"T_08b16_row3_col5\" class=\"data row3 col5\" >config</td>\n",
       "      <td id=\"T_08b16_row3_col6\" class=\"data row3 col6\" ></td>\n",
       "      <td id=\"T_08b16_row3_col7\" class=\"data row3 col7\" >2A:AB:17:54:4D:99</td>\n",
       "      <td id=\"T_08b16_row3_col8\" class=\"data row3 col8\" >enp8s0</td>\n",
       "      <td id=\"T_08b16_row3_col9\" class=\"data row3 col9\" >enp8s0</td>\n",
       "      <td id=\"T_08b16_row3_col10\" class=\"data row3 col10\" >None</td>\n",
       "      <td id=\"T_08b16_row3_col11\" class=\"data row3 col11\" >6</td>\n",
       "    </tr>\n",
       "  </tbody>\n",
       "</table>\n"
      ],
      "text/plain": [
       "<pandas.io.formats.style.Styler at 0x7f09df876f20>"
      ]
     },
     "metadata": {},
     "output_type": "display_data"
    },
    {
     "name": "stdout",
     "output_type": "stream",
     "text": [
      "\n",
      "Time to print interfaces 326 seconds\n"
     ]
    },
    {
     "data": {
      "text/plain": [
       "'09161bce-82e9-48a5-aa06-c46ceb06a8c1'"
      ]
     },
     "execution_count": 10,
     "metadata": {},
     "output_type": "execute_result"
    }
   ],
   "source": [
    "slice.submit()"
   ]
  },
  {
   "cell_type": "code",
   "execution_count": 11,
   "id": "ed8eda42-f9cc-43e6-ab69-bfdd7d434f1f",
   "metadata": {},
   "outputs": [
    {
     "name": "stdout",
     "output_type": "stream",
     "text": [
      "Waiting for slice . Slice state: StableOK\n",
      "Waiting for ssh in slice . ssh successful\n"
     ]
    },
    {
     "data": {
      "text/plain": [
       "True"
      ]
     },
     "execution_count": 11,
     "metadata": {},
     "output_type": "execute_result"
    }
   ],
   "source": [
    "slice.get_state()\n",
    "slice.wait_ssh(progress=True)"
   ]
  },
  {
   "cell_type": "markdown",
   "id": "ce56eaf5-a58d-4351-901a-7f7ee6e268c0",
   "metadata": {},
   "source": [
    "### Configure resources\n",
    "\n",
    "Next, we will configure the resources so they are ready to use."
   ]
  },
  {
   "cell_type": "code",
   "execution_count": 12,
   "id": "bdfaba02-5910-4e9c-b27c-db87a2617362",
   "metadata": {},
   "outputs": [],
   "source": [
    "slice = fablib.get_slice(name=slice_name)"
   ]
  },
  {
   "cell_type": "code",
   "execution_count": 13,
   "id": "282c8d97-ef0c-46cc-8d33-bbbefb3a6914",
   "metadata": {},
   "outputs": [
    {
     "name": "stdout",
     "output_type": "stream",
     "text": [
      "deb https://download.opensuse.org/repositories/home:/p4lang/xUbuntu_/ /\n",
      "\u001b[31m   % Total    % Received % Xferd  Average Speed   Time    Time     Time  Current\n",
      "                                 Dload  Upload   Total   Spent    Left  Speed\n",
      "  0     0    0     0    0     0      0      0 --:--:-- --:--:-- --:--:--     0Warning: apt-key output should not be parsed (stdout is not a terminal)\n",
      "100  1083    0  1083    0     0   1787      0 --:--:-- --:--:-- --:--:--  1787\n",
      "gpg: no valid OpenPGP data found.\n",
      " \u001b[0mHit:1 http://nova.clouds.archive.ubuntu.com/ubuntu focal InRelease\n",
      "Get:2 http://nova.clouds.archive.ubuntu.com/ubuntu focal-updates InRelease [114 kB]\n",
      "Get:3 http://security.ubuntu.com/ubuntu focal-security InRelease [114 kB]\n",
      "Get:4 http://nova.clouds.archive.ubuntu.com/ubuntu focal-backports InRelease [108 kB]\n",
      "Get:5 http://nova.clouds.archive.ubuntu.com/ubuntu focal/universe amd64 Packages [8628 kB]\n",
      "Ign:6 https://download.opensuse.org/repositories/home:/p4lang/xUbuntu_  InRelease\n",
      "Get:7 http://nova.clouds.archive.ubuntu.com/ubuntu focal/universe Translation-en [5124 kB]\n",
      "Get:8 http://nova.clouds.archive.ubuntu.com/ubuntu focal/universe amd64 c-n-f Metadata [265 kB]\n",
      "Get:9 http://nova.clouds.archive.ubuntu.com/ubuntu focal/multiverse amd64 Packages [144 kB]\n",
      "Get:10 http://nova.clouds.archive.ubuntu.com/ubuntu focal/multiverse Translation-en [104 kB]\n",
      "Err:11 https://download.opensuse.org/repositories/home:/p4lang/xUbuntu_  Release\n",
      "  404  Not Found [IP: 2a07:de40:b250:131:10:151:131:30 443]\n",
      "Get:12 http://nova.clouds.archive.ubuntu.com/ubuntu focal/multiverse amd64 c-n-f Metadata [9136 B]\n",
      "Get:13 http://nova.clouds.archive.ubuntu.com/ubuntu focal-updates/main amd64 Packages [2994 kB]\n",
      "Get:14 http://nova.clouds.archive.ubuntu.com/ubuntu focal-updates/main Translation-en [484 kB]\n",
      "Get:15 http://security.ubuntu.com/ubuntu focal-security/main amd64 Packages [2604 kB]\n",
      "Get:16 http://nova.clouds.archive.ubuntu.com/ubuntu focal-updates/main amd64 c-n-f Metadata [17.2 kB]\n",
      "Get:17 http://nova.clouds.archive.ubuntu.com/ubuntu focal-updates/restricted amd64 Packages [2528 kB]\n",
      "Get:18 http://nova.clouds.archive.ubuntu.com/ubuntu focal-updates/restricted Translation-en [353 kB]\n",
      "Get:19 http://nova.clouds.archive.ubuntu.com/ubuntu focal-updates/restricted amd64 c-n-f Metadata [552 B]\n",
      "Get:20 http://nova.clouds.archive.ubuntu.com/ubuntu focal-updates/universe amd64 Packages [1139 kB]\n",
      "Get:21 http://nova.clouds.archive.ubuntu.com/ubuntu focal-updates/universe Translation-en [273 kB]\n",
      "Get:22 http://nova.clouds.archive.ubuntu.com/ubuntu focal-updates/universe amd64 c-n-f Metadata [25.7 kB]\n",
      "Get:23 http://nova.clouds.archive.ubuntu.com/ubuntu focal-updates/multiverse amd64 Packages [25.8 kB]\n",
      "Get:24 http://nova.clouds.archive.ubuntu.com/ubuntu focal-updates/multiverse Translation-en [7484 B]\n",
      "Get:25 http://nova.clouds.archive.ubuntu.com/ubuntu focal-updates/multiverse amd64 c-n-f Metadata [620 B]\n",
      "Get:26 http://nova.clouds.archive.ubuntu.com/ubuntu focal-backports/main amd64 Packages [45.7 kB]\n",
      "Get:27 http://nova.clouds.archive.ubuntu.com/ubuntu focal-backports/main Translation-en [16.3 kB]\n",
      "Get:28 http://nova.clouds.archive.ubuntu.com/ubuntu focal-backports/main amd64 c-n-f Metadata [1420 B]\n",
      "Get:29 http://nova.clouds.archive.ubuntu.com/ubuntu focal-backports/restricted amd64 c-n-f Metadata [116 B]\n",
      "Get:30 http://nova.clouds.archive.ubuntu.com/ubuntu focal-backports/universe amd64 Packages [25.0 kB]\n",
      "Get:31 http://nova.clouds.archive.ubuntu.com/ubuntu focal-backports/universe Translation-en [16.3 kB]\n",
      "Get:32 http://nova.clouds.archive.ubuntu.com/ubuntu focal-backports/universe amd64 c-n-f Metadata [880 B]\n",
      "Get:33 http://nova.clouds.archive.ubuntu.com/ubuntu focal-backports/multiverse amd64 c-n-f Metadata [116 B]\n",
      "Get:34 http://security.ubuntu.com/ubuntu focal-security/main Translation-en [402 kB]\n",
      "Get:35 http://security.ubuntu.com/ubuntu focal-security/main amd64 c-n-f Metadata [13.2 kB]\n",
      "Get:36 http://security.ubuntu.com/ubuntu focal-security/restricted amd64 Packages [2411 kB]\n",
      "Get:37 http://security.ubuntu.com/ubuntu focal-security/restricted Translation-en [336 kB]\n",
      "Get:38 http://security.ubuntu.com/ubuntu focal-security/restricted amd64 c-n-f Metadata [552 B]\n",
      "Get:39 http://security.ubuntu.com/ubuntu focal-security/universe amd64 Packages [914 kB]\n",
      "Get:40 http://security.ubuntu.com/ubuntu focal-security/universe Translation-en [192 kB]\n",
      "Get:41 http://security.ubuntu.com/ubuntu focal-security/universe amd64 c-n-f Metadata [19.2 kB]\n",
      "Get:42 http://security.ubuntu.com/ubuntu focal-security/multiverse amd64 Packages [23.6 kB]\n",
      "Get:43 http://security.ubuntu.com/ubuntu focal-security/multiverse Translation-en [5504 B]\n",
      "Get:44 http://security.ubuntu.com/ubuntu focal-security/multiverse amd64 c-n-f Metadata [548 B]\n",
      "Reading package lists...\n",
      "\u001b[31m E:  \u001b[0m\u001b[31m The repository 'https://download.opensuse.org/repositories/home:/p4lang/xUbuntu_  Release' does not have a Release file.\n",
      " \u001b[0mReading package lists...\n",
      "Building dependency tree...\u001b[31m \n",
      "WARNING: apt does not have a stable CLI interface. Use with caution in scripts.\n",
      "\n",
      " \u001b[0m\n",
      "Reading state information...\n",
      "\u001b[31m E: Unable to locate package p4lang-p4c\n",
      " \u001b[0m"
     ]
    },
    {
     "data": {
      "text/plain": [
       "('Reading package lists...\\nBuilding dependency tree...\\nReading state information...\\n',\n",
       " '\\nWARNING: apt does not have a stable CLI interface. Use with caution in scripts.\\n\\nE: Unable to locate package p4lang-p4c\\n')"
      ]
     },
     "execution_count": 13,
     "metadata": {},
     "output_type": "execute_result"
    }
   ],
   "source": [
    "#Installing BMv2 on the switch\n",
    "#DO THIS MANUALLY ONCE YOU LOG IN TO THE SERVER. DOING IT HERE DOES NOT WORK https://github.com/p4lang/p4c\n",
    "switch = slice.get_node(name=\"switch\")     \n",
    "#switch.upload_file('install_bmv2.sh', 'install_bmv2.sh')\n",
    "#stdout, stderr = switch.execute(f'chmod +x install_bmv2.sh &&  ./install_bmv2.sh',quiet=True)\n",
    "switch.execute('. /etc/os-release')\n",
    "switch.execute('echo \"deb https://download.opensuse.org/repositories/home:/p4lang/xUbuntu_${VERSION_ID}/ /\" | sudo tee /etc/apt/sources.list.d/home:p4lang.list')\n",
    "switch.execute('curl -L \"https://download.opensuse.org/repositories/home:/p4lang/xUbuntu_${VERSION_ID}/Release.key\" | sudo apt-key add -')\n",
    "switch.execute('sudo apt-get update')\n",
    "switch.execute('sudo apt install -y p4lang-p4c')"
   ]
  },
  {
   "cell_type": "code",
   "execution_count": 16,
   "id": "1e3da757-5a23-442e-b5c5-d31c7b4221ef",
   "metadata": {},
   "outputs": [],
   "source": [
    "# install packages\n",
    "server = slice.get_node(name=\"server\")\n",
    "client = slice.get_node(name=\"client\")\n",
    "stdout, stderr = server.execute(f'sudo apt-get install -y net-tools', quiet=True)\n",
    "stdout, stderr = client.execute(f'sudo apt-get install -y net-tools', quiet=True)\n",
    "stdout, stderr = switch.execute(f'sudo apt-get install -y net-tools', quiet=True)"
   ]
  },
  {
   "cell_type": "code",
   "execution_count": 22,
   "id": "7edf0395-3c88-44b0-b2ce-4f0c812d26d0",
   "metadata": {},
   "outputs": [
    {
     "name": "stdout",
     "output_type": "stream",
     "text": [
      "server_iface: enp7s0\n",
      "client_iface: enp7s0\n",
      "switch_iface1: enp8s0\n",
      "switch_iface2: enp7s0\n"
     ]
    }
   ],
   "source": [
    "#Getting the names of the interfaces\n",
    "server = slice.get_node(name=\"server\")\n",
    "client = slice.get_node(name=\"client\")\n",
    "\n",
    "node1_iface = server.get_interface(network_name='net1') \n",
    "server_iface_name = node1_iface.get_device_name()\n",
    "print(f'server_iface: {server_iface_name}')\n",
    "\n",
    "node2_iface = client.get_interface(network_name='net2') \n",
    "client_iface_name = node2_iface.get_device_name()\n",
    "print(f'client_iface: {client_iface_name}')\n",
    "\n",
    "switch_iface1 = switch.get_interface(network_name='net1') \n",
    "switch_iface1_name = switch_iface1.get_device_name()\n",
    "print(f'switch_iface1: {switch_iface1_name}')\n",
    "\n",
    "switch_iface2 = switch.get_interface(network_name='net2') \n",
    "switch_iface2_name = switch_iface2.get_device_name()\n",
    "print(f'switch_iface2: {switch_iface2_name}')"
   ]
  },
  {
   "cell_type": "code",
   "execution_count": 23,
   "id": "7eb7b001-d721-4867-8fdb-1410a9b244a8",
   "metadata": {},
   "outputs": [],
   "source": [
    "#Starting up all the interfaces\n",
    "stdout, stderr = server.execute(f'sudo ip link set dev {server_iface_name} up', quiet=True)\n",
    "stdout, stderr = client.execute(f'sudo ip link set dev {client_iface_name} up', quiet=True)\n",
    "stdout, stderr = switch.execute(f'sudo ip link set dev {switch_iface1_name} up', quiet=True)\n",
    "stdout, stderr = switch.execute(f'sudo ip link set dev {switch_iface2_name} up', quiet=True)"
   ]
  },
  {
   "cell_type": "code",
   "execution_count": 24,
   "id": "fe496e98-d101-43bd-bd82-53a2428cc5ce",
   "metadata": {},
   "outputs": [],
   "source": [
    "#Hardcoding all MAC addresses for simplicity\n",
    "server_iface_MAC = '00:00:00:00:00:01'\n",
    "switch_iface1_MAC = '00:00:00:00:00:02'\n",
    "switch_iface2_MAC = '00:00:00:00:00:03'\n",
    "client_iface_MAC = '00:00:00:00:00:04'"
   ]
  },
  {
   "cell_type": "code",
   "execution_count": 25,
   "id": "148d13cb-bc99-4fde-b27b-d1922dd452ad",
   "metadata": {},
   "outputs": [],
   "source": [
    "#Configuring IP and MAC between server and switch_iface1\n",
    "server_switch_subnet = \"192.168.1.0/24\"\n",
    "server_ip = '192.168.1.10/24'\n",
    "switch_ip1 = '192.168.1.1/24'\n",
    "\n",
    "stdout, stderr = server1.execute(f'sudo ifconfig {server_iface_name} {server_ip}')\n",
    "stdout, stderr = switch.execute(f'sudo ifconfig {switch_iface1_name} {switch_ip1}')\n",
    "\n",
    "stdout, stderr = server.execute(f'sudo ifconfig {server_iface_name} hw ether {server_iface_MAC}')\n",
    "stdout, stderr = switch.execute(f'sudo ifconfig {switch_iface1_name} hw ether {switch_iface1_MAC}')"
   ]
  },
  {
   "cell_type": "code",
   "execution_count": 26,
   "id": "73b040f7-1fb1-49a5-afd9-a68a48c5eaf3",
   "metadata": {},
   "outputs": [],
   "source": [
    "#Configuring IP and MAC between server2 and switch_iface2\n",
    "client_switch_subnet = \"192.168.2.0/24\"\n",
    "client_ip = '192.168.2.10/24'\n",
    "switch_ip2 = '192.168.2.1/24'\n",
    "\n",
    "stdout, stderr = client.execute(f'sudo ifconfig {client_iface_name} {client_ip}')\n",
    "stdout, stderr = switch.execute(f'sudo ifconfig {switch_iface2_name} {switch_ip2}')\n",
    "\n",
    "stdout, stderr = client.execute(f'sudo ifconfig {client_iface_name} hw ether {client_iface_MAC}')\n",
    "stdout, stderr = switch.execute(f'sudo ifconfig {switch_iface2_name} hw ether {switch_iface2_MAC}')"
   ]
  },
  {
   "cell_type": "code",
   "execution_count": 27,
   "id": "065459e3-4230-498a-a695-2037bd9c35a4",
   "metadata": {},
   "outputs": [],
   "source": [
    "#Enable IP forwarding on the switch\n",
    "stdout, stderr = switch.execute('sudo sysctl -w net.ipv4.ip_forward=1' , quiet=True)"
   ]
  },
  {
   "cell_type": "code",
   "execution_count": 29,
   "id": "d133d3d4-677d-4046-a935-a14f672ff6e4",
   "metadata": {},
   "outputs": [],
   "source": [
    "# Deleting the routing tables for our servers so all traffic goes only from switch\n",
    "stdout, stderr = switch.execute(f'sudo ip route del {server_switch_subnet}', quiet=True)\n",
    "stdout, stderr = switch.execute(f'sudo ip route del {client_switch_subnet}', quiet=True)"
   ]
  },
  {
   "cell_type": "code",
   "execution_count": 30,
   "id": "9f7566b1-0634-441c-8ad4-452bb3deadae",
   "metadata": {},
   "outputs": [],
   "source": [
    "#Configuring routing\n",
    "gw1 = switch_ip1.split('/')[0] # gw1 -> 192.168.1.1 \n",
    "gw2 = switch_ip2.split('/')[0] # gw2 -> 192.168.2.1\n",
    "stdout, stderr = server.execute(f'sudo ip route add {client_switch_subnet} via {gw1}')\n",
    "stdout, stderr = client.execute(f'sudo ip route add {server_switch_subnet} via {gw2}')"
   ]
  },
  {
   "cell_type": "code",
   "execution_count": 31,
   "id": "41c784c4-abb3-4eb0-a9a7-f8f2c130bb0d",
   "metadata": {},
   "outputs": [],
   "source": [
    "#Configuring ARP\n",
    "stdout, stderr = server.execute(f'sudo arp -s {gw1} {switch_iface1_MAC}')\n",
    "stdout, stderr = client.execute(f'sudo arp -s {gw2} {switch_iface2_MAC}')"
   ]
  },
  {
   "cell_type": "markdown",
   "id": "f5d88588-6f18-4624-b712-7756e14eb5b6",
   "metadata": {},
   "source": [
    "### Extend your slice\n",
    "\n",
    "If you don’t plan to finish an experiment in one day, you can extend your slice. The following cell extends your reservation for 7 days."
   ]
  },
  {
   "cell_type": "code",
   "execution_count": 32,
   "id": "7289815c-388a-4ae7-95eb-be8a6e5b19fa",
   "metadata": {},
   "outputs": [],
   "source": [
    "from datetime import datetime\n",
    "from datetime import timezone\n",
    "from datetime import timedelta\n",
    "\n",
    "# Set end date to 7 days from now\n",
    "end_date = (datetime.now(timezone.utc) + timedelta(days=7)).strftime(\"%Y-%m-%d %H:%M:%S %z\")\n",
    "slice.renew(end_date)"
   ]
  },
  {
   "cell_type": "markdown",
   "id": "9fc9a843-b7a4-471f-8fc1-914e83f4e523",
   "metadata": {},
   "source": [
    "### Draw the network topology"
   ]
  },
  {
   "cell_type": "markdown",
   "id": "d3aabc40-655b-406a-90a1-909f0a1af592",
   "metadata": {},
   "source": [
    "The following cell will draw the network topology, for your reference. The interface name and addresses of each experiment interface will be shown on the drawing."
   ]
  },
  {
   "cell_type": "code",
   "execution_count": 33,
   "id": "cfb86ff2-761d-43e1-ab0b-65639881efe9",
   "metadata": {},
   "outputs": [],
   "source": [
    "l2_nets = [(n.get_name(), {'color': 'lavender'}) for n in slice.get_l2networks() ]\n",
    "l3_nets = [(n.get_name(), {'color': 'pink'}) for n in slice.get_l3networks() ]\n",
    "hosts   =   [(n.get_name(), {'color': 'lightblue'}) for n in slice.get_nodes()]\n",
    "nodes = l2_nets + l3_nets + hosts\n",
    "ifaces = [iface.toDict() for iface in slice.get_interfaces()]\n",
    "edges = [(iface['network'], iface['node'], \n",
    "          {'label': iface['physical_dev'] + '\\n' + iface['ip_addr'] + '\\n' + iface['mac']}) for iface in ifaces]"
   ]
  },
  {
   "cell_type": "code",
   "execution_count": 34,
   "id": "c3600e46-45d3-4c05-b3d0-4ef2e117fe71",
   "metadata": {},
   "outputs": [
    {
     "data": {
      "image/png": "[encoded data removed]",
      "text/plain": [
       "<Figure size 500x500 with 1 Axes>"
      ]
     },
     "metadata": {},
     "output_type": "display_data"
    }
   ],
   "source": [
    "import networkx as nx\n",
    "import matplotlib.pyplot as plt\n",
    "plt.figure(figsize=(len(nodes),len(nodes)))\n",
    "G = nx.Graph()\n",
    "G.add_nodes_from(nodes)\n",
    "G.add_edges_from(edges)\n",
    "pos = nx.spring_layout(G)\n",
    "nx.draw(G, pos, node_shape='s',  \n",
    "        node_color=[n[1]['color'] for n in nodes], \n",
    "        node_size=[len(n[0])*400 for n in nodes],  \n",
    "        with_labels=True);\n",
    "nx.draw_networkx_edge_labels(G,pos,\n",
    "                             edge_labels=nx.get_edge_attributes(G,'label'),\n",
    "                             font_color='gray',  font_size=8, rotate=False);"
   ]
  },
  {
   "cell_type": "markdown",
   "id": "5554e763-c4da-4fb9-acf6-a8622fd6ff75",
   "metadata": {},
   "source": [
    "### Log into resources"
   ]
  },
  {
   "cell_type": "markdown",
   "id": "fe0f725f-c74d-4637-8c38-cf05f1c9b0d7",
   "metadata": {},
   "source": [
    "Now, we are finally ready to log in to our resources over SSH! Run the following cells, and observe the table output - you will see an SSH command for each of the resources in your topology."
   ]
  },
  {
   "cell_type": "code",
   "execution_count": 35,
   "id": "c425e792-0820-4a83-80a9-635ba53e2ee5",
   "metadata": {},
   "outputs": [
    {
     "data": {
      "text/html": [
       "<div>\n",
       "<style scoped>\n",
       "    .dataframe tbody tr th:only-of-type {\n",
       "        vertical-align: middle;\n",
       "    }\n",
       "\n",
       "    .dataframe tbody tr th {\n",
       "        vertical-align: top;\n",
       "    }\n",
       "\n",
       "    .dataframe thead th {\n",
       "        text-align: right;\n",
       "    }\n",
       "</style>\n",
       "<table border=\"1\" class=\"dataframe\">\n",
       "  <thead>\n",
       "    <tr style=\"text-align: right;\">\n",
       "      <th></th>\n",
       "      <th>SSH command</th>\n",
       "    </tr>\n",
       "    <tr>\n",
       "      <th>Name</th>\n",
       "      <th></th>\n",
       "    </tr>\n",
       "  </thead>\n",
       "  <tbody>\n",
       "    <tr>\n",
       "      <th>server</th>\n",
       "      <td>ssh -i /home/fabric/work/fabric_config/slice_key -F /home/fabric/work/fabric_config/ssh_config ubuntu@2001:400:a100:3000:f816:3eff:fee6:db8d</td>\n",
       "    </tr>\n",
       "    <tr>\n",
       "      <th>client</th>\n",
       "      <td>ssh -i /home/fabric/work/fabric_config/slice_key -F /home/fabric/work/fabric_config/ssh_config ubuntu@2001:400:a100:3000:f816:3eff:fe7b:c2c9</td>\n",
       "    </tr>\n",
       "    <tr>\n",
       "      <th>switch</th>\n",
       "      <td>ssh -i /home/fabric/work/fabric_config/slice_key -F /home/fabric/work/fabric_config/ssh_config ubuntu@2001:400:a100:3000:f816:3eff:fe58:8d36</td>\n",
       "    </tr>\n",
       "  </tbody>\n",
       "</table>\n",
       "</div>"
      ],
      "text/plain": [
       "                                                                                                                                         SSH command\n",
       "Name                                                                                                                                                \n",
       "server  ssh -i /home/fabric/work/fabric_config/slice_key -F /home/fabric/work/fabric_config/ssh_config ubuntu@2001:400:a100:3000:f816:3eff:fee6:db8d\n",
       "client  ssh -i /home/fabric/work/fabric_config/slice_key -F /home/fabric/work/fabric_config/ssh_config ubuntu@2001:400:a100:3000:f816:3eff:fe7b:c2c9\n",
       "switch  ssh -i /home/fabric/work/fabric_config/slice_key -F /home/fabric/work/fabric_config/ssh_config ubuntu@2001:400:a100:3000:f816:3eff:fe58:8d36"
      ]
     },
     "execution_count": 35,
     "metadata": {},
     "output_type": "execute_result"
    }
   ],
   "source": [
    "import pandas as pd\n",
    "pd.set_option('display.max_colwidth', None)\n",
    "slice_info = [{'Name': n.get_name(), 'SSH command': n.get_ssh_command()} for n in slice.get_nodes()]\n",
    "pd.DataFrame(slice_info).set_index('Name')"
   ]
  },
  {
   "cell_type": "markdown",
   "id": "d06d89fe-c67b-4203-a616-9d554d39ed01",
   "metadata": {},
   "source": [
    "Now, you can open an SSH session on any of the resources as follows:\n",
    "\n",
    "-   in Jupyter, from the menu bar, use File \\> New \\> Terminal to open a new terminal.\n",
    "-   copy an SSH command from the table, and paste it into the terminal. (Note that each SSH command is a single line, even if the display wraps the text to a second line! When you copy and paste it, paste it all together.)\n",
    "\n",
    "You can repeat this process (open several terminals) to start a session on each resource. Each terminal session will have a tab in the Jupyter environment, so that you can easily switch between them."
   ]
  },
  {
   "cell_type": "code",
   "execution_count": null,
   "id": "6f8d2a5b-2a4f-4ca2-b55d-d06ac7074309",
   "metadata": {},
   "outputs": [],
   "source": [
    "#Uploading the P4 Files in the switch (Does not usually work, log in with ssh and create, compile files manually)\n",
    "switch.upload_file('p4files/basic.p4', '/VSR_P4/basic.p4')\n",
    "switch.upload_file('p4files/checksum.p4', '/VSR_P4/checksum.p4') \n",
    "switch.upload_file('p4files/deparser.p4', '/VSR_P4/deparser.p4') \n",
    "switch.upload_file('p4files/egress.p4', '/VSR_P4/egress.p4')\n",
    "switch.upload_file('p4files/headers.p4', '/VSR_P4/headers.p4') \n",
    "switch.upload_file('p4files/ingress.p4', '/VSR_P4/ingress.p4') \n",
    "switch.upload_file('p4files/parser.p4', '/VSR_P4/parser.p4') \n",
    "#Compilation commands - \n",
    "# $p4c basic.p4\n",
    "# $sudo simple_switch -i 0@ens8 -i 1@ens7 basic.json --log-console"
   ]
  },
  {
   "cell_type": "code",
   "execution_count": 41,
   "id": "bbdb79f7-d435-4af2-929b-8d67a45f14bc",
   "metadata": {},
   "outputs": [],
   "source": [
    "#Populate the forwarding table from the control plane after compiling the P4 files. \n",
    "#Upload rules.sh and run the following command on the switch-\n",
    "# $chmod +x rules.sh && ./rules.sh\n",
    "stdout, stderr = switch.execute(f'chmod +x rules.sh && ./rules.sh', quiet=True)"
   ]
  },
  {
   "cell_type": "code",
   "execution_count": 38,
   "id": "33d9c32d-e284-4e29-8af5-647d0b2bd8b2",
   "metadata": {},
   "outputs": [],
   "source": [
    "#Installing scapy on server and client\n",
    "stdout, stderr = server.execute(f'sudo apt-get update && sudo apt-get install -y python3-scapy', quiet=True)\n",
    "stdout, stderr = client.execute(f'sudo apt-get update && sudo apt-get install -y python3-scapy', quiet=True)"
   ]
  },
  {
   "cell_type": "code",
   "execution_count": null,
   "id": "b01e638f-f0eb-4315-be16-905430de803c",
   "metadata": {},
   "outputs": [],
   "source": [
    "#Sending a packet from server to switch for testing. Upload p4files/send.py to server\n",
    "# $sudo python3 send.py enp7s0 192.168.1.10 192.168.2.10 HelloWorld"
   ]
  },
  {
   "cell_type": "code",
   "execution_count": null,
   "id": "953e4b82-e565-403c-bdee-2dce77d1f0ee",
   "metadata": {},
   "outputs": [],
   "source": [
    "#Getting the video files on the server (Run these commands on the server node)\n",
    "# $sudo apt install -y apache2\n",
    "# $wget https://nyu.box.com/shared/static/d6btpwf5lqmkqh53b52ynhmfthh2qtby.tgz -O media.tgz\n",
    "# $sudo tar -v -xzf media.tgz -C /var/www/html/\n",
    "\n",
    "#Now get the video encoding utility on the client\n",
    "# $sudo apt install -y python3 ffmpeg"
   ]
  }
 ],
 "metadata": {
  "kernelspec": {
   "display_name": "Python 3 (ipykernel)",
   "language": "python",
   "name": "python3"
  },
  "language_info": {
   "codemirror_mode": {
    "name": "ipython",
    "version": 3
   },
   "file_extension": ".py",
   "mimetype": "text/x-python",
   "name": "python",
   "nbconvert_exporter": "python",
   "pygments_lexer": "ipython3",
   "version": "3.10.6"
  }
 },
 "nbformat": 4,
 "nbformat_minor": 5
}
